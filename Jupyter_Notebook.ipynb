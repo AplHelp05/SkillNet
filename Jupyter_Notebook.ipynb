{
 "cells": [
  {
   "cell_type": "markdown",
   "metadata": {},
   "source": [
    "<center>\n",
    "    <img src=\"https://cf-courses-data.s3.us.cloud-object-storage.appdomain.cloud/IBMDeveloperSkillsNetwork-DS0105EN-SkillsNetwork/labs/Module2/images/SN_web_lightmode.png\" width=\"300\" alt=\"cognitiveclass.ai logo\">\n",
    "</center>\n"
   ]
  },
  {
   "cell_type": "markdown",
   "metadata": {
    "tags": []
   },
   "source": [
    "#### Add your code below following the instructions given in the course\n"
   ]
  },
  {
   "cell_type": "markdown",
   "metadata": {
    "tags": []
   },
   "source": [
    "# Adrian Jupyter Skills Net"
   ]
  },
  {
   "cell_type": "markdown",
   "metadata": {
    "tags": []
   },
   "source": [
    "## Introduction\n",
    "\n",
    "Lorem Ipsum is simply dummy text of the printing and typesetting industry. Lorem Ipsum has been the industry's standard dummy text ever since the 1500s, when an unknown printer took a galley of type and scrambled it to make a type specimen book. It has survived not only five centuries, but also the leap into electronic typesetting, remaining essentially unchanged."
   ]
  },
  {
   "cell_type": "markdown",
   "metadata": {},
   "source": [
    "1. **Python**\n",
    "\n",
    "2. **R**\n",
    "\n",
    "3. **Julia**\n",
    "\n",
    "4. **Scala**\n"
   ]
  },
  {
   "cell_type": "markdown",
   "metadata": {},
   "source": [
    "## Data Science Libraries\n",
    "\n",
    "1. **NumPy**\n",
    "\n",
    "2. **Pandas**\n",
    "\n",
    "3. **scikit-learn**\n",
    "\n",
    "4. **Matplotlib**"
   ]
  },
  {
   "cell_type": "markdown",
   "metadata": {},
   "source": [
    "## Data Science Tools\n",
    "\n",
    "| Tool                   | Description                                           |\n",
    "|------------------------|-------------------------------------------------------|\n",
    "| **Jupyter Notebooks**  | Interactive computing and data analysis environment. |\n",
    "| **RStudio**            | Integrated development environment for R.             |\n",
    "| **Apache Hadoop**      | Framework for distributed storage and processing of large datasets. |\n",
    "| **Apache Spark**       | Fast and general-purpose cluster-computing system for big data processing. |\n",
    "| **Git and GitHub**     | Version control system and web-based hosting service for collaborative coding. |\n",
    "\n"
   ]
  },
  {
   "cell_type": "markdown",
   "metadata": {},
   "source": [
    "## Arithmetic Expression\n",
    "\n",
    "1. **Addition:**\n",
    "   result = 5 + 3\n",
    "   // Output: 8\n",
    "   \n",
    "2. **Subtraction:**\n",
    "    result = 5 - 3\n",
    "    // Output: 6\n",
    "   \n"
   ]
  },
  {
   "cell_type": "code",
   "execution_count": 3,
   "metadata": {
    "tags": []
   },
   "outputs": [
    {
     "name": "stdout",
     "output_type": "stream",
     "text": [
      "Result: 1350\n",
      "Addition Result: 17\n"
     ]
    }
   ],
   "source": [
    "# Multiplication\n",
    "num1 = 15\n",
    "num2 = 90\n",
    "result = num1 * num2\n",
    "print(f'Result: {result}')\n",
    "\n",
    "# Addition\n",
    "num3 = 10\n",
    "num4 = 7\n",
    "result_add = num3 + num4\n",
    "print(f'Addition Result: {result_add}')\n"
   ]
  },
  {
   "cell_type": "code",
   "execution_count": 7,
   "metadata": {
    "tags": []
   },
   "outputs": [
    {
     "name": "stdout",
     "output_type": "stream",
     "text": [
      "Minutes to Hours 2.0\n"
     ]
    }
   ],
   "source": [
    "# Convert minutes to hours\n",
    "\n",
    "def minutes_to_hours(minutes):\n",
    "    return minutes / 60\n",
    "\n",
    "result = minutes_to_hours(120)\n",
    "print(f'Minutes to Hours {result}')\n"
   ]
  },
  {
   "cell_type": "markdown",
   "metadata": {},
   "source": [
    "## Objectives\n",
    "1. I will speak at five conferences in the next year\n",
    "2. I will read one book about sales strategy every month\n",
    "3. I will work with a coach to practise my networking skills by the end of this month\n",
    "(froim internet...)"
   ]
  },
  {
   "cell_type": "markdown",
   "metadata": {
    "tags": []
   },
   "source": [
    "## Author\n",
    "\n",
    "**Adrian PIcado**\n"
   ]
  },
  {
   "cell_type": "code",
   "execution_count": null,
   "metadata": {},
   "outputs": [],
   "source": []
  }
 ],
 "metadata": {
  "kernelspec": {
   "display_name": "Python",
   "language": "python",
   "name": "conda-env-python-py"
  },
  "language_info": {
   "codemirror_mode": {
    "name": "ipython",
    "version": 3
   },
   "file_extension": ".py",
   "mimetype": "text/x-python",
   "name": "python",
   "nbconvert_exporter": "python",
   "pygments_lexer": "ipython3",
   "version": "3.7.12"
  }
 },
 "nbformat": 4,
 "nbformat_minor": 4
}
